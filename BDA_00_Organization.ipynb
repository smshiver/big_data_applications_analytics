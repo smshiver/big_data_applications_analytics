{
 "cells": [
  {
   "cell_type": "markdown",
   "metadata": {},
   "source": [
    "## INFO-I423 Big Data Applications and Analytics\n",
    "### Instructor: Gregor Von Laszewski\n",
    "\n",
    "## 1.3 Organization\n",
    "### 1.3.5. Parallel Tracks\n",
    "This class starts out with three parallel tracks; you will do all of them.\n",
    "### Track 1: Practice Track\n",
    "* Python for Big Data Applications and Analytics: NumPy, SciPy, MatPlotlib\n",
    "* Using FutureGrid for Big Data Applications and Analytics Course\n",
    "* Using Chameleon Cloud for Big Data Applications and Analytics Course\n",
    "* [optional] Using Plotviz Software for Displaying Point Distributions in 3D\n",
    "* Recommender Systems - K-Nearest Neighbors, Clustering and heuristic methods\n",
    "* PageRank\n",
    "* Kmeans\n",
    "* MapReduce\n",
    "* Kmeans and MapReduce Parallelism\n",
    "\n",
    "### Track 2: Theory Track:\n",
    "* Motivation: Big Data and the Cloud; Centerpieces of the Future Economy\n",
    "* Introduction: What is Big Data, Data Analytics\n",
    "    * Use Cases: Big Data Use Cases Survey\n",
    "    * Use Case, Physics Discovery of Higgs Particle\n",
    "    * Use Case: e-Commerce and Lifestyle with recommender systems\n",
    "    * Use Case: Web Search and Text Mining and their technologies\n",
    "    * Use Case: Sports\n",
    "    * Use Case: Health\n",
    "    * Use Case: Sensors\n",
    "    * Use Case: Radar for Remote Sensing.\n",
    "* Parallel Computing Overview and familiar examples\n",
    "* Cloud Technology for Big Data Applications & Analytics\n",
    "\n",
    "### Track 3: Writing Track:\n",
    "* Writing a short review article\n",
    "* Writing a porject or term report"
   ]
  },
  {
   "cell_type": "code",
   "execution_count": null,
   "metadata": {
    "collapsed": true
   },
   "outputs": [],
   "source": []
  },
  {
   "cell_type": "code",
   "execution_count": null,
   "metadata": {
    "collapsed": true
   },
   "outputs": [],
   "source": []
  },
  {
   "cell_type": "code",
   "execution_count": null,
   "metadata": {
    "collapsed": true
   },
   "outputs": [],
   "source": []
  },
  {
   "cell_type": "code",
   "execution_count": null,
   "metadata": {
    "collapsed": true
   },
   "outputs": [],
   "source": []
  },
  {
   "cell_type": "code",
   "execution_count": null,
   "metadata": {
    "collapsed": true
   },
   "outputs": [],
   "source": []
  }
 ],
 "metadata": {
  "kernelspec": {
   "display_name": "Python 3",
   "language": "python",
   "name": "python3"
  },
  "language_info": {
   "codemirror_mode": {
    "name": "ipython",
    "version": 3
   },
   "file_extension": ".py",
   "mimetype": "text/x-python",
   "name": "python",
   "nbconvert_exporter": "python",
   "pygments_lexer": "ipython3",
   "version": "3.6.1"
  }
 },
 "nbformat": 4,
 "nbformat_minor": 2
}
